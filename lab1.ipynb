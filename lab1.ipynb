{
 "cells": [
  {
   "attachments": {},
   "cell_type": "markdown",
   "metadata": {},
   "source": [
    "# Lab Exercise 1\n",
    "\n",
    "Exercise description in German.\n",
    "\n",
    "## Klassisches Kalman-Filter\n",
    "\n",
    "### Problemstellung\n",
    "\n",
    "Aktienkurse unterliegen einem mehr oder wenig starken Rauschen. Beispielhaft ist der Aktienkurs des Unternehmens „Leoni“ dargestellt.\n"
   ]
  },
  {
   "cell_type": "code",
   "execution_count": null,
   "metadata": {},
   "outputs": [],
   "source": [
    "import pandas as pd\n",
    "\n",
    "leoni_data = pd.read_csv(\n",
    "    \"data/Leoni.dat\",\n",
    "    sep=\";\",\n",
    "    parse_dates=[\"Datum\"],\n",
    "    date_format=r\"%d.%m.%Y\",\n",
    "    index_col=\"Datum\",\n",
    ")\n",
    "leoni_data"
   ]
  },
  {
   "cell_type": "code",
   "execution_count": null,
   "metadata": {},
   "outputs": [],
   "source": [
    "leoni_data.plot(\n",
    "    y=\"Schlusskurs\",\n",
    "    kind=\"line\",\n",
    "    grid=True,\n",
    "    ylabel=\"Aktienkurs [€]\",\n",
    "    title=\"Eingangsdaten\",\n",
    ")"
   ]
  },
  {
   "attachments": {},
   "cell_type": "markdown",
   "metadata": {},
   "source": [
    "### Aufgabenstellung\n",
    "\n",
    "Entwerfen Sie ein Kalman-Filter (Beta-Filter) um das Rauschen im Aktienkurs zu minimieren. \n",
    "\n",
    "Hinweis zur Bearbeitung: Bestimmen Sie zuerst für den Zeitraum die Varianz $R$ des Messrauchens. Gehen Sie davon aus, dass sich die Varianz des Rauschens zeitinvariant ist.\n",
    "\n",
    "Variieren Sie dann das Systemrauchen $Q$ und schauen sich den Verlauf der beiden Zustandsgrößen an.\n",
    "\n",
    "Optimieren Sie diesen Kalman-Filter so, dass er eine minimale Laufzeit besitzt."
   ]
  }
 ],
 "metadata": {
  "kernelspec": {
   "display_name": "Python 3",
   "language": "python",
   "name": "python3"
  },
  "language_info": {
   "codemirror_mode": {
    "name": "ipython",
    "version": 3
   },
   "file_extension": ".py",
   "mimetype": "text/x-python",
   "name": "python",
   "nbconvert_exporter": "python",
   "pygments_lexer": "ipython3",
   "version": "3.11.3"
  }
 },
 "nbformat": 4,
 "nbformat_minor": 2
}

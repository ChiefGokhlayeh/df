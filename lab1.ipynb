{
 "cells": [
  {
   "attachments": {},
   "cell_type": "markdown",
   "metadata": {},
   "source": [
    "# Lab Exercise 1\n",
    "\n",
    "Exercise description in German.\n",
    "\n",
    "## Klassisches Kalman-Filter\n",
    "\n",
    "### Problemstellung\n",
    "\n",
    "Aktienkurse unterliegen einem mehr oder wenig starken Rauschen. Beispielhaft ist der Aktienkurs des Unternehmens „Leoni“ dargestellt.\n"
   ]
  },
  {
   "cell_type": "code",
   "execution_count": null,
   "metadata": {},
   "outputs": [],
   "source": [
    "import pandas as pd\n",
    "\n",
    "leoni_data = pd.read_csv(\n",
    "    \"data/Leoni.dat\",\n",
    "    sep=\";\",\n",
    "    parse_dates=[\"Datum\"],\n",
    "    date_format=r\"%d.%m.%Y\",\n",
    "    index_col=\"Datum\",\n",
    ")\n",
    "leoni_data"
   ]
  },
  {
   "cell_type": "code",
   "execution_count": null,
   "metadata": {},
   "outputs": [],
   "source": [
    "leoni_data.plot(\n",
    "    y=\"Schlusskurs\",\n",
    "    kind=\"line\",\n",
    "    grid=True,\n",
    "    ylabel=\"Aktienkurs [€]\",\n",
    "    title=\"Eingangsdaten\",\n",
    ")"
   ]
  },
  {
   "attachments": {},
   "cell_type": "markdown",
   "metadata": {},
   "source": [
    "### Aufgabenstellung\n",
    "\n",
    "Entwerfen Sie ein Kalman-Filter (Beta-Filter) um das Rauschen im Aktienkurs zu minimieren. \n",
    "\n",
    "Hinweis zur Bearbeitung: Bestimmen Sie zuerst für den Zeitraum die Varianz $R$ des Messrauchens. Gehen Sie davon aus, dass sich die Varianz des Rauschens zeitinvariant ist.\n",
    "\n",
    "Variieren Sie dann das Systemrauchen $Q$ und schauen sich den Verlauf der beiden Zustandsgrößen an.\n",
    "\n",
    "Optimieren Sie diesen Kalman-Filter so, dass er eine minimale Laufzeit besitzt."
   ]
  },
  {
   "cell_type": "code",
   "execution_count": null,
   "metadata": {},
   "outputs": [],
   "source": [
    "import matplotlib.pyplot as plt\n",
    "import numpy as np"
   ]
  },
  {
   "cell_type": "code",
   "execution_count": null,
   "metadata": {},
   "outputs": [],
   "source": [
    "y = leoni_data[\"Schlusskurs\"].to_numpy()\n",
    "u = np.zeros((y.size, 1))\n",
    "t = leoni_data[\"Eintrag\"].to_numpy()\n",
    "\n",
    "Ts = t[1] - t[0]\n",
    "R = y.var()\n",
    "Q = 100\n",
    "\n",
    "Ad = np.array([[1, Ts], [0, 1]])\n",
    "Bd = np.array([[0], [0]])\n",
    "C = np.array([[1, 0]])\n",
    "D = 0\n",
    "Gd = np.array([[Ts], [1]])"
   ]
  },
  {
   "cell_type": "code",
   "execution_count": null,
   "metadata": {},
   "outputs": [],
   "source": [
    "x_hat = np.array([[y[0]], [0]])\n",
    "P_hat = 50 * np.eye(2)\n",
    "\n",
    "d_y = np.zeros_like(y)\n",
    "\n",
    "s = np.zeros_like(y)\n",
    "v = np.zeros_like(y)\n",
    "K1 = np.zeros_like(y)\n",
    "K2 = np.zeros_like(y)\n",
    "P_tilde1 = np.zeros_like(y)\n",
    "P_tilde2 = np.zeros_like(y)\n",
    "P_tilde3 = np.zeros_like(y)\n",
    "P_tilde4 = np.zeros_like(y)\n",
    "for i, y_i in enumerate(y):\n",
    "    d_y[i] = y_i - (C @ x_hat + D * u[i])\n",
    "    k = C @ P_hat @ C.T + R\n",
    "    if k.ndim >= 2:\n",
    "        K = P_hat @ C.T @ np.linalg.pinv(C @ P_hat @ C.T + R)\n",
    "    else:\n",
    "        K = P_hat @ C.T * 1 / (C @ P_hat @ C.T + R)\n",
    "    x_tilde = x_hat + (K * d_y[i]).reshape(-1, 1)\n",
    "    P_tilde = (np.eye(Bd.size) - K @ C) @ P_hat\n",
    "\n",
    "    x_hat = Ad @ x_tilde + (Bd @ u[i]).reshape(-1, 1)\n",
    "    P_hat = Ad @ P_tilde @ Ad.T + (Gd * Q) @ Gd.T\n",
    "\n",
    "    s[i], v[i] = x_tilde\n",
    "    K1[i], K2[i] = K\n",
    "    P_tilde1[i], P_tilde2[i] = P_tilde[0, :]\n",
    "    P_tilde3[i], P_tilde4[i] = P_tilde[1, :]\n",
    "\n",
    "fig, (ax_s, ax_v) = plt.subplots(2, 1, figsize=(15, 7))\n",
    "\n",
    "ax_s.plot(t, y, \"k*\")\n",
    "ax_s.plot(t, s, \"b--\")\n",
    "ax_s.plot(t, s + 1.5 * np.sqrt(P_tilde1), \"b-\")\n",
    "ax_s.plot(t, s - 1.5 * np.sqrt(P_tilde1), \"b-\")\n",
    "ax_s.grid(True)\n",
    "ax_s.set_xlabel(\"Zeit [Tag]\")\n",
    "ax_s.set_ylabel(\"Kurs [€]\")\n",
    "\n",
    "ax_v.plot(t, v, \"r-*\")\n",
    "ax_v.grid(True)\n",
    "ax_v.set_xlabel(\"Zeit [Tag]\")\n",
    "ax_v.set_ylabel(\"Kursänderung [€/Tag]\")\n",
    "\n",
    "fig.tight_layout()"
   ]
  }
 ],
 "metadata": {
  "kernelspec": {
   "display_name": "Python 3",
   "language": "python",
   "name": "python3"
  },
  "language_info": {
   "codemirror_mode": {
    "name": "ipython",
    "version": 3
   },
   "file_extension": ".py",
   "mimetype": "text/x-python",
   "name": "python",
   "nbconvert_exporter": "python",
   "pygments_lexer": "ipython3",
   "version": "3.11.3"
  }
 },
 "nbformat": 4,
 "nbformat_minor": 2
}
